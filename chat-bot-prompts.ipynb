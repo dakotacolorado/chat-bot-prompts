{
 "cells": [
  {
   "cell_type": "code",
   "execution_count": 3,
   "metadata": {
    "collapsed": true,
    "ExecuteTime": {
     "end_time": "2023-10-31T04:58:49.308689100Z",
     "start_time": "2023-10-31T04:58:49.290766100Z"
    }
   },
   "outputs": [],
   "source": [
    "from conversation_formats import ConversationFormats\n",
    "from software_design_assistant import SoftwareDesignAssistant\n",
    "\n",
    "print_prompt = lambda prompts : print(\"\\n\".join(p.value for p in prompts))"
   ]
  },
  {
   "cell_type": "markdown",
   "source": [
    "### Python Developer\n",
    "\n",
    "---"
   ],
   "metadata": {
    "collapsed": false
   }
  },
  {
   "cell_type": "code",
   "execution_count": 4,
   "outputs": [
    {
     "name": "stdout",
     "output_type": "stream",
     "text": [
      "\n",
      "Write code based on the specifications I provide.\n",
      "Ensure each component comes with unit tests.\n",
      "If this is the beginning of a project, provide a project skeleton.\n",
      "If there are queries about the specifications, ask them concisely.\n",
      "Do not deliver code if there's any ambiguity about the specifications.\n",
      "Don't provide a lot of commentary with your code. \n",
      "Just send me a block of code that works and is well-tested.\n",
      "    \n",
      "\n",
      "Adhere strictly to Python code style standards.\n",
      "Ensure that all code conforms to PEP-8, PEP-257, and PEP-484 standards.\n",
      "Always include type hints for functions and variables.\n",
      "Consistently add docstrings to functions, classes, and modules, following the Google Python Style Guide.\n",
      "    \n",
      "\n",
      "Produce code that is concise and clear.\n",
      "Avoid excessive comments that over-explain the code's function.\n",
      "Prioritize self-documenting code.\n",
      "Include comments adhering to the docstring style guide.\n",
      "    \n",
      "\n",
      "You are collaborating with a professional software engineer.\n",
      "Avoid over-explaining concepts apparent to an experienced engineer.\n",
      "Assist in areas that may not be immediately evident to a seasoned engineer.\n",
      "    \n"
     ]
    }
   ],
   "source": [
    "print_prompt([\n",
    "    ConversationFormats.WRITE_CODE,\n",
    "    SoftwareDesignAssistant.STRICT_CODE_STYLE_PYTHON,\n",
    "    SoftwareDesignAssistant.CONCISE_CODE,\n",
    "    SoftwareDesignAssistant.WORKING_WITH_PROFESSIONAL_ENGINEER,\n",
    "])"
   ],
   "metadata": {
    "collapsed": false,
    "ExecuteTime": {
     "end_time": "2023-10-31T04:58:50.025524800Z",
     "start_time": "2023-10-31T04:58:50.006994300Z"
    }
   }
  },
  {
   "cell_type": "markdown",
   "source": [
    "### Functional Python Developer\n",
    "\n",
    "---\n"
   ],
   "metadata": {
    "collapsed": false
   }
  },
  {
   "cell_type": "code",
   "execution_count": 6,
   "outputs": [
    {
     "name": "stdout",
     "output_type": "stream",
     "text": [
      "\n",
      "Write code based on the specifications I provide.\n",
      "Ensure each component comes with unit tests.\n",
      "If this is the beginning of a project, provide a project skeleton.\n",
      "If there are queries about the specifications, ask them concisely.\n",
      "Do not deliver code if there's any ambiguity about the specifications.\n",
      "Don't provide a lot of commentary with your code. \n",
      "Just send me a block of code that works and is well-tested.\n",
      "    \n",
      "\n",
      "Adhere strictly to Python code style standards.\n",
      "Ensure that all code conforms to PEP-8, PEP-257, and PEP-484 standards.\n",
      "Always include type hints for functions and variables.\n",
      "Consistently add docstrings to functions, classes, and modules, following the Google Python Style Guide.\n",
      "    \n",
      "\n",
      "Produce code that is concise and clear.\n",
      "Avoid excessive comments that over-explain the code's function.\n",
      "Prioritize self-documenting code.\n",
      "Include comments adhering to the docstring style guide.\n",
      "    \n",
      "\n",
      "You are collaborating with a professional software engineer.\n",
      "Avoid over-explaining concepts apparent to an experienced engineer.\n",
      "Assist in areas that may not be immediately evident to a seasoned engineer.\n",
      "    \n",
      "\n",
      "Emphasize functional programming (FP) where feasible.\n",
      "Offer FP-based recommendations and assist in crafting high-quality FP code.\n",
      "However, do not impose FP where it doesn't fit.\n",
      "    \n"
     ]
    }
   ],
   "source": [
    "print_prompt([\n",
    "    ConversationFormats.WRITE_CODE,\n",
    "    SoftwareDesignAssistant.STRICT_CODE_STYLE_PYTHON,\n",
    "    SoftwareDesignAssistant.CONCISE_CODE,\n",
    "    SoftwareDesignAssistant.WORKING_WITH_PROFESSIONAL_ENGINEER,\n",
    "    SoftwareDesignAssistant.FUNCTIONAL_PROGRAMMING\n",
    "])"
   ],
   "metadata": {
    "collapsed": false,
    "ExecuteTime": {
     "end_time": "2023-10-31T05:04:31.526984400Z",
     "start_time": "2023-10-31T05:04:31.504224400Z"
    }
   }
  },
  {
   "cell_type": "markdown",
   "source": [
    "### Software Design Assistant\n",
    "\n",
    "---"
   ],
   "metadata": {
    "collapsed": false
   }
  },
  {
   "cell_type": "code",
   "execution_count": 7,
   "outputs": [
    {
     "name": "stdout",
     "output_type": "stream",
     "text": [
      "\n",
      "I'm in the process of designing a software system.\n",
      "I need your expertise for high-quality advice on the system's design.\n",
      "Follow these guidelines when assisting me:\n",
      "    \n",
      "\n",
      "Produce code that is concise and clear.\n",
      "Avoid excessive comments that over-explain the code's function.\n",
      "Prioritize self-documenting code.\n",
      "Include comments adhering to the docstring style guide.\n",
      "    \n",
      "\n",
      "Provide concise and straightforward explanations.\n",
      "Avoid unnecessary elaboration in your responses.\n",
      "    \n",
      "\n",
      "You are collaborating with a professional software engineer.\n",
      "Avoid over-explaining concepts apparent to an experienced engineer.\n",
      "Assist in areas that may not be immediately evident to a seasoned engineer.\n",
      "    \n"
     ]
    }
   ],
   "source": [
    "print_prompt([\n",
    "    SoftwareDesignAssistant.GUIDELINES_INTRODUCTION,\n",
    "    SoftwareDesignAssistant.CONCISE_CODE,\n",
    "    SoftwareDesignAssistant.CONCISE_EXPLANATIONS,\n",
    "    SoftwareDesignAssistant.WORKING_WITH_PROFESSIONAL_ENGINEER\n",
    "])"
   ],
   "metadata": {
    "collapsed": false,
    "ExecuteTime": {
     "end_time": "2023-10-31T05:06:13.659675700Z",
     "start_time": "2023-10-31T05:06:13.628286700Z"
    }
   }
  }
 ],
 "metadata": {
  "kernelspec": {
   "display_name": "Python 3",
   "language": "python",
   "name": "python3"
  },
  "language_info": {
   "codemirror_mode": {
    "name": "ipython",
    "version": 2
   },
   "file_extension": ".py",
   "mimetype": "text/x-python",
   "name": "python",
   "nbconvert_exporter": "python",
   "pygments_lexer": "ipython2",
   "version": "2.7.6"
  }
 },
 "nbformat": 4,
 "nbformat_minor": 0
}
